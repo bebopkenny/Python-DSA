{
 "cells": [
  {
   "cell_type": "markdown",
   "id": "3023b81c",
   "metadata": {},
   "source": [
    "Singly linked lists"
   ]
  },
  {
   "cell_type": "code",
   "execution_count": 2,
   "id": "d414d6b4",
   "metadata": {},
   "outputs": [],
   "source": [
    "# Singly linked lists \n",
    "class SinglyNode:\n",
    "\n",
    "    def __init__(self, val, next=None):\n",
    "        self.val = val \n",
    "        self.next = next \n",
    "\n",
    "    def __str__(self):\n",
    "        return str(self.val)"
   ]
  },
  {
   "cell_type": "code",
   "execution_count": 3,
   "id": "638ffb32",
   "metadata": {},
   "outputs": [
    {
     "name": "stdout",
     "output_type": "stream",
     "text": [
      "1\n"
     ]
    }
   ],
   "source": [
    "Head = SinglyNode(1)\n",
    "\n",
    "A = SinglyNode(3)\n",
    "B = SinglyNode(4)\n",
    "C = SinglyNode(7)\n",
    "\n",
    "Head.next = A\n",
    "A.next = B \n",
    "B.next = C \n",
    "\n",
    "print(Head)"
   ]
  },
  {
   "cell_type": "code",
   "execution_count": 4,
   "id": "be873307",
   "metadata": {},
   "outputs": [
    {
     "name": "stdout",
     "output_type": "stream",
     "text": [
      "1\n",
      "3\n",
      "4\n",
      "7\n"
     ]
    }
   ],
   "source": [
    "# Traverse the list - O(n)\n",
    "curr = Head \n",
    "\n",
    "while curr: \n",
    "    print(curr)\n",
    "    curr = curr.next "
   ]
  },
  {
   "cell_type": "code",
   "execution_count": 21,
   "id": "d8a929ea",
   "metadata": {},
   "outputs": [
    {
     "name": "stdout",
     "output_type": "stream",
     "text": [
      "1 -> 3 -> 4 -> 7\n"
     ]
    }
   ],
   "source": [
    "# Display linked list - O(n)\n",
    "def display(head):\n",
    "    curr = head \n",
    "    elements = []\n",
    "    while curr:\n",
    "        elements.append(str(curr.val))\n",
    "        curr = curr.next \n",
    "    print(' -> '.join(elements))\n",
    "\n",
    "# ['a', 'b', 'c'] 'a' -> 'b' -> 'c'\n",
    "\n",
    "display(Head)"
   ]
  },
  {
   "cell_type": "code",
   "execution_count": 10,
   "id": "cabea906",
   "metadata": {},
   "outputs": [
    {
     "data": {
      "text/plain": [
       "True"
      ]
     },
     "execution_count": 10,
     "metadata": {},
     "output_type": "execute_result"
    }
   ],
   "source": [
    "# Search for a node value - O(n)\n",
    "def search(head, val):\n",
    "    curr = head \n",
    "    while curr:\n",
    "        if val == curr.val:\n",
    "            return True \n",
    "        curr = curr.next\n",
    "    return False \n",
    "\n",
    "search(Head, 7)"
   ]
  },
  {
   "cell_type": "markdown",
   "id": "2ec819e4",
   "metadata": {},
   "source": [
    "Doubly Linked Lists"
   ]
  },
  {
   "cell_type": "code",
   "execution_count": 22,
   "id": "d4a7dcc8",
   "metadata": {},
   "outputs": [],
   "source": [
    "# Doubly linked lists\n",
    "class DoublyNode: \n",
    "    def __init__(self, val, next=None, prev=None):\n",
    "        self.val = val\n",
    "        self.next = next \n",
    "        self.prev = prev \n",
    "\n",
    "    def __str__(self):\n",
    "        return str(self.val)"
   ]
  },
  {
   "cell_type": "code",
   "execution_count": 23,
   "id": "9f042843",
   "metadata": {},
   "outputs": [
    {
     "name": "stdout",
     "output_type": "stream",
     "text": [
      "1\n"
     ]
    }
   ],
   "source": [
    "head = tail = DoublyNode(1)\n",
    "print(tail)"
   ]
  },
  {
   "cell_type": "code",
   "execution_count": 24,
   "id": "91a514b9",
   "metadata": {},
   "outputs": [
    {
     "name": "stdout",
     "output_type": "stream",
     "text": [
      "1\n"
     ]
    }
   ],
   "source": [
    "# Display - O(n)\n",
    "def display(head):\n",
    "    curr = head \n",
    "    elements = []\n",
    "    while curr:\n",
    "        elements.append(str(curr.val))\n",
    "        curr = curr.next \n",
    "    print(' <-> '.join(elements))\n",
    "\n",
    "display(head)"
   ]
  },
  {
   "cell_type": "code",
   "execution_count": 25,
   "id": "52d53a29",
   "metadata": {},
   "outputs": [
    {
     "name": "stdout",
     "output_type": "stream",
     "text": [
      "3 <-> 1\n"
     ]
    }
   ],
   "source": [
    "# Insert at beginning - O(1)\n",
    "def insert_at_beginning(head, tail, val):\n",
    "    new_node = DoublyNode(val, next=head)\n",
    "    head.prev = new_node \n",
    "    return new_node, tail \n",
    "\n",
    "head, tail = insert_at_beginning(head, tail, 3)\n",
    "display(head)"
   ]
  },
  {
   "cell_type": "code",
   "execution_count": 26,
   "id": "d8fe7311",
   "metadata": {},
   "outputs": [
    {
     "name": "stdout",
     "output_type": "stream",
     "text": [
      "3 <-> 1 <-> 7\n"
     ]
    }
   ],
   "source": [
    "# Insert at end - O(1)\n",
    "def insert_at_end(head, tail, val):\n",
    "    new_node = DoublyNode(val, prev=tail)\n",
    "    tail.next = new_node \n",
    "    return head, new_node \n",
    "\n",
    "head, tail = insert_at_end(head, tail, 7)\n",
    "display(head)"
   ]
  }
 ],
 "metadata": {
  "kernelspec": {
   "display_name": "venv",
   "language": "python",
   "name": "python3"
  },
  "language_info": {
   "codemirror_mode": {
    "name": "ipython",
    "version": 3
   },
   "file_extension": ".py",
   "mimetype": "text/x-python",
   "name": "python",
   "nbconvert_exporter": "python",
   "pygments_lexer": "ipython3",
   "version": "3.12.3"
  }
 },
 "nbformat": 4,
 "nbformat_minor": 5
}
