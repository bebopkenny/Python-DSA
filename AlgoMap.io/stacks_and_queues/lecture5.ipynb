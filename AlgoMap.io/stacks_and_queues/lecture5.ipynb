{
 "cells": [
  {
   "cell_type": "markdown",
   "id": "04c36915",
   "metadata": {},
   "source": [
    "Stacks and Queues"
   ]
  },
  {
   "cell_type": "code",
   "execution_count": 29,
   "id": "ab894a8e",
   "metadata": {},
   "outputs": [
    {
     "name": "stdout",
     "output_type": "stream",
     "text": [
      "[]\n"
     ]
    }
   ],
   "source": [
    "# Stacks \n",
    "\n",
    "stk = []\n",
    "print(stk)"
   ]
  },
  {
   "cell_type": "code",
   "execution_count": 30,
   "id": "6167e89c",
   "metadata": {},
   "outputs": [
    {
     "name": "stdout",
     "output_type": "stream",
     "text": [
      "[5, 6, 7]\n"
     ]
    }
   ],
   "source": [
    "# Append to top of the stack = O(1)\n",
    "stk.append(5)\n",
    "stk.append(6)\n",
    "stk.append(7)\n",
    "print(stk)"
   ]
  },
  {
   "cell_type": "code",
   "execution_count": 31,
   "id": "b541fc4a",
   "metadata": {},
   "outputs": [
    {
     "name": "stdout",
     "output_type": "stream",
     "text": [
      "7\n",
      "[5, 6]\n"
     ]
    }
   ],
   "source": [
    "# Pop the top of the stack = O(1)\n",
    "x = stk.pop()\n",
    "print(x)\n",
    "print(stk)"
   ]
  },
  {
   "cell_type": "code",
   "execution_count": 32,
   "id": "18994f43",
   "metadata": {},
   "outputs": [
    {
     "name": "stdout",
     "output_type": "stream",
     "text": [
      "6\n"
     ]
    }
   ],
   "source": [
    "# Ask what is on top of the stack O(1)\n",
    "print(stk[-1])"
   ]
  },
  {
   "cell_type": "code",
   "execution_count": 33,
   "id": "4d631016",
   "metadata": {},
   "outputs": [
    {
     "name": "stdout",
     "output_type": "stream",
     "text": [
      "True\n"
     ]
    }
   ],
   "source": [
    "# Ask if stack is emtpy - O(1)\n",
    "if stk:\n",
    "    print(True) "
   ]
  },
  {
   "cell_type": "code",
   "execution_count": 34,
   "id": "8c6d56fe",
   "metadata": {},
   "outputs": [
    {
     "name": "stdout",
     "output_type": "stream",
     "text": [
      "6\n",
      "[5]\n"
     ]
    }
   ],
   "source": [
    "# Function to pop and checks if stack is empty\n",
    "def stack_pop(stack):\n",
    "    if not stack:\n",
    "        return # Do nothing if stack is empty\n",
    "    else: \n",
    "        x = stack.pop()\n",
    "        print(f\"{x}\\n{stack}\")\n",
    "\n",
    "stack_pop(stk)"
   ]
  },
  {
   "cell_type": "code",
   "execution_count": null,
   "id": "2fa96da8",
   "metadata": {},
   "outputs": [],
   "source": [
    "# Queues - First in First out (FIFO)\n",
    "from collections import deque "
   ]
  }
 ],
 "metadata": {
  "kernelspec": {
   "display_name": "venv",
   "language": "python",
   "name": "python3"
  },
  "language_info": {
   "codemirror_mode": {
    "name": "ipython",
    "version": 3
   },
   "file_extension": ".py",
   "mimetype": "text/x-python",
   "name": "python",
   "nbconvert_exporter": "python",
   "pygments_lexer": "ipython3",
   "version": "3.12.3"
  }
 },
 "nbformat": 4,
 "nbformat_minor": 5
}
