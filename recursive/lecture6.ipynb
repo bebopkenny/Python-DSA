{
 "cells": [
  {
   "cell_type": "markdown",
   "id": "87e5c21d",
   "metadata": {},
   "source": [
    "Recursive Call Stacks and Algorithms"
   ]
  },
  {
   "cell_type": "code",
   "execution_count": 5,
   "id": "2dc1457e",
   "metadata": {},
   "outputs": [
    {
     "data": {
      "text/plain": [
       "5"
      ]
     },
     "execution_count": 5,
     "metadata": {},
     "output_type": "execute_result"
    }
   ],
   "source": [
    "# Fibonacci \n",
    "# F(0) = 0\n",
    "# F(1) = 1\n",
    "# n > 1: F(n) = F(n-1) + F(n-2)\n",
    "\n",
    "# Time: O(2^n), Space O(n)\n",
    "def F(n):\n",
    "    if n == 0:\n",
    "        return 0\n",
    "    elif n == 1:\n",
    "        return 1\n",
    "    else:\n",
    "        return F(n-1) + F(n-2)\n",
    "    \n",
    "F(5)"
   ]
  },
  {
   "cell_type": "code",
   "execution_count": 9,
   "id": "664defc0",
   "metadata": {},
   "outputs": [],
   "source": [
    "# Linked List \n",
    "\n",
    "class LinkedList:\n",
    "    def __init__(self, head, next=None): \n",
    "        self.head = head \n",
    "        self.next = next \n",
    "\n",
    "    def __str__(self):\n",
    "        print()\n",
    "\n",
    "Head = LinkedList(1)\n",
    "\n",
    "    "
   ]
  },
  {
   "cell_type": "code",
   "execution_count": 10,
   "id": "105d04cd",
   "metadata": {},
   "outputs": [
    {
     "name": "stdout",
     "output_type": "stream",
     "text": [
      "\n"
     ]
    },
    {
     "ename": "TypeError",
     "evalue": "__str__ returned non-string (type NoneType)",
     "output_type": "error",
     "traceback": [
      "\u001b[31m---------------------------------------------------------------------------\u001b[39m",
      "\u001b[31mTypeError\u001b[39m                                 Traceback (most recent call last)",
      "\u001b[36mCell\u001b[39m\u001b[36m \u001b[39m\u001b[32mIn[10]\u001b[39m\u001b[32m, line 11\u001b[39m\n\u001b[32m      8\u001b[39m     reverse(node.next)\n\u001b[32m      9\u001b[39m     \u001b[38;5;28mprint\u001b[39m(node)\n\u001b[32m---> \u001b[39m\u001b[32m11\u001b[39m \u001b[43mreverse\u001b[49m\u001b[43m(\u001b[49m\u001b[43mHead\u001b[49m\u001b[43m)\u001b[49m\n",
      "\u001b[36mCell\u001b[39m\u001b[36m \u001b[39m\u001b[32mIn[10]\u001b[39m\u001b[32m, line 9\u001b[39m, in \u001b[36mreverse\u001b[39m\u001b[34m(node)\u001b[39m\n\u001b[32m      6\u001b[39m     \u001b[38;5;28;01mreturn\u001b[39;00m \n\u001b[32m      8\u001b[39m reverse(node.next)\n\u001b[32m----> \u001b[39m\u001b[32m9\u001b[39m \u001b[38;5;28;43mprint\u001b[39;49m\u001b[43m(\u001b[49m\u001b[43mnode\u001b[49m\u001b[43m)\u001b[49m\n",
      "\u001b[31mTypeError\u001b[39m: __str__ returned non-string (type NoneType)"
     ]
    }
   ],
   "source": [
    "# Linked Lists\n",
    "\n",
    "# Time: O(n), Space: O(n)\n",
    "def reverse(node):\n",
    "    if not node:\n",
    "        return \n",
    "    \n",
    "    reverse(node.next)\n",
    "    print(node)\n",
    "\n",
    "reverse(Head)\n",
    "    \n",
    "    "
   ]
  }
 ],
 "metadata": {
  "kernelspec": {
   "display_name": ".venv",
   "language": "python",
   "name": "python3"
  },
  "language_info": {
   "codemirror_mode": {
    "name": "ipython",
    "version": 3
   },
   "file_extension": ".py",
   "mimetype": "text/x-python",
   "name": "python",
   "nbconvert_exporter": "python",
   "pygments_lexer": "ipython3",
   "version": "3.12.3"
  }
 },
 "nbformat": 4,
 "nbformat_minor": 5
}
