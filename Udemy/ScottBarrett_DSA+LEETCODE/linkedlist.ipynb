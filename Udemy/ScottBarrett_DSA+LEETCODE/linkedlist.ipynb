{
 "cells": [
  {
   "cell_type": "code",
   "execution_count": null,
   "id": "2cc03128",
   "metadata": {},
   "outputs": [
    {
     "ename": "_IncompleteInputError",
     "evalue": "incomplete input (3335433515.py, line 47)",
     "output_type": "error",
     "traceback": [
      "  \u001b[36mCell\u001b[39m\u001b[36m \u001b[39m\u001b[32mIn[1]\u001b[39m\u001b[32m, line 47\u001b[39m\n\u001b[31m    \u001b[39m\n    ^\n\u001b[31m_IncompleteInputError\u001b[39m\u001b[31m:\u001b[39m incomplete input\n"
     ]
    }
   ],
   "source": [
    "'''\n",
    "LL: Constructor\n",
    "\n",
    "You are tasked with implementing a basic data structure: a singly linked list.\n",
    "\n",
    "To accomplish this, you will create two classes, Node and LinkedList.\n",
    "\n",
    "The Node class will represent an individual node within the linked list, while the LinkedList class will manage the overall list structure.\n",
    "\n",
    "Your implementation should satisfy the following requirements:\n",
    "\n",
    "\n",
    "    Create a Node class with the following features:\n",
    "\n",
    "        A constructor that takes a value as an argument and initializes the value attribute of the node.\n",
    "\n",
    "        A next attribute, initialized to None, which will store a reference to the next node in the list.\n",
    "\n",
    "    Create a LinkedList class with the following features:\n",
    "\n",
    "        A constructor that takes a value as an argument, creates a new Node with that value, and initializes the head and tail attributes of the linked list to point to the new node.\n",
    "\n",
    "        A length attribute, initialized to 1, which represents the current number of nodes in the list.\n",
    "'''\n",
    "\n",
    "class Node:\n",
    "    def __init__(self, value):\n",
    "        self.value = value\n",
    "        self.next = None\n",
    "\n",
    "class LinkedList:\n",
    "    def __init__(self, value):\n",
    "        new_node = Node(value)\n",
    "        self.head = new_node\n",
    "        self.tail = new_node\n",
    "        self.length = 1\n",
    "\n",
    "    def print_list(self):\n",
    "        temp = self.head\n",
    "        while temp is not None:\n",
    "            print(temp.value)\n",
    "            temp = temp.next\n",
    "\n",
    "    def append_list(self, value):\n",
    "        new_node = Node(value) \n",
    "        # checking if the list is empty\n",
    "        if self.head is None: \n",
    "            # we'll set the head and tail as the new nodes\n",
    "            self.head = new_node \n",
    "            self.tail = new_node\n",
    "        # if the list is not empty\n",
    "        else:\n",
    "            # make the old tail point to the new node\n",
    "            self.tail.next = new_node\n",
    "            # set the tail as the new node\n",
    "            self.tail = new_node\n",
    "        self.length += 1\n",
    "        # optional\n",
    "        return True\n",
    "\n",
    "\n"
   ]
  }
 ],
 "metadata": {
  "kernelspec": {
   "display_name": "Python (myenv)",
   "language": "python",
   "name": "myenv"
  },
  "language_info": {
   "codemirror_mode": {
    "name": "ipython",
    "version": 3
   },
   "file_extension": ".py",
   "mimetype": "text/x-python",
   "name": "python",
   "nbconvert_exporter": "python",
   "pygments_lexer": "ipython3",
   "version": "3.13.3"
  }
 },
 "nbformat": 4,
 "nbformat_minor": 5
}
